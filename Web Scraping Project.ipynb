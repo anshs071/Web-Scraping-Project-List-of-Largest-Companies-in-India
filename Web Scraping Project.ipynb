{
 "cells": [
  {
   "cell_type": "markdown",
   "id": "d1355c45-bbd6-4b77-8a89-72677a59c8b7",
   "metadata": {},
   "source": [
    "# Web Scraping Project"
   ]
  },
  {
   "cell_type": "code",
   "execution_count": null,
   "id": "aba47448-b745-47b0-900a-447531530f9c",
   "metadata": {},
   "outputs": [],
   "source": [
    "from bs4 import BeautifulSoup\n",
    "import requests"
   ]
  },
  {
   "cell_type": "code",
   "execution_count": null,
   "id": "f8d5c9bb-8d38-4785-b55a-6e4fe08d365d",
   "metadata": {},
   "outputs": [],
   "source": [
    "url= 'https://en.wikipedia.org/wiki/List_of_largest_companies_in_India'\n",
    "page = requests.get(url)\n",
    "soup = BeautifulSoup(page.text, 'html')\n",
    "print(soup)"
   ]
  },
  {
   "cell_type": "code",
   "execution_count": null,
   "id": "00d55339-8fa4-43b0-935b-8c43dad570af",
   "metadata": {},
   "outputs": [],
   "source": [
    "soup.find_all('table', class_= 'wikitable sortable')[0]"
   ]
  },
  {
   "cell_type": "code",
   "execution_count": null,
   "id": "35780d6a-fbfa-4837-ad01-fd21739a0952",
   "metadata": {},
   "outputs": [],
   "source": [
    "table= soup.find_all('table')[0]"
   ]
  },
  {
   "cell_type": "code",
   "execution_count": null,
   "id": "d016760d-ee71-40a2-8ffa-cb247c20bbdc",
   "metadata": {},
   "outputs": [],
   "source": [
    "print(table)"
   ]
  },
  {
   "cell_type": "code",
   "execution_count": null,
   "id": "f729cfc1-3eb5-4935-b78f-4a4129a7e2f0",
   "metadata": {},
   "outputs": [],
   "source": [
    "table_titles = table.find_all('th')"
   ]
  },
  {
   "cell_type": "code",
   "execution_count": null,
   "id": "55199da4-b6e0-494e-8c16-913eb9492eb8",
   "metadata": {},
   "outputs": [],
   "source": [
    "table_titles"
   ]
  },
  {
   "cell_type": "code",
   "execution_count": null,
   "id": "1ad5c385-8e36-470b-bef7-b1d9eebb22a8",
   "metadata": {},
   "outputs": [],
   "source": [
    "world_table_titles = [title.text.strip() for title in table_titles]\n",
    "print(world_table_titles)"
   ]
  },
  {
   "cell_type": "code",
   "execution_count": null,
   "id": "22f1fb7f-99e6-451f-a1e6-38f48a7e1411",
   "metadata": {},
   "outputs": [],
   "source": [
    "import pandas as pd"
   ]
  },
  {
   "cell_type": "code",
   "execution_count": null,
   "id": "e7805b54-588d-45cb-a6d7-1d4dc8855be4",
   "metadata": {},
   "outputs": [],
   "source": [
    "df= pd.DataFrame(columns = world_table_titles)\n",
    "df"
   ]
  },
  {
   "cell_type": "code",
   "execution_count": null,
   "id": "8b348b52-0aad-497b-8392-9f743c728569",
   "metadata": {},
   "outputs": [],
   "source": [
    "column_data = table.find_all('tr')"
   ]
  },
  {
   "cell_type": "code",
   "execution_count": null,
   "id": "520234c2-3fb7-4946-8f23-9a59d8922ba8",
   "metadata": {},
   "outputs": [],
   "source": [
    "'''                                                                               wrong\n",
    "for row in column_data[1:]:\n",
    "    row_data = table.find_all('td')\n",
    "    ind_row_data = [data.text.strip() for data in row_data]\n",
    "    del ind_row_data[1]\n",
    "    del ind_row_data[2]\n",
    "    \n",
    "    length = df.shape[1]\n",
    "    df.loc[length] = ind_row_data\n",
    "'''\n",
    "\n",
    "for row in column_data[1:]:                                                     #correct\n",
    "    row_data = row.find_all('td')\n",
    "    ind_row_data = [data.text.strip() for data in row_data]\n",
    "    del ind_row_data[1]\n",
    "    del ind_row_data[2]\n",
    "    \n",
    "    length = df.shape[0]\n",
    "    df.loc[length] = ind_row_data\n"
   ]
  },
  {
   "cell_type": "code",
   "execution_count": null,
   "id": "ec455aa5-d5fa-4096-8ce9-986d50762471",
   "metadata": {},
   "outputs": [],
   "source": [
    "df"
   ]
  },
  {
   "cell_type": "code",
   "execution_count": null,
   "id": "452a15d7-27e9-49d2-b932-75d4a442cff4",
   "metadata": {},
   "outputs": [],
   "source": [
    "df.to_csv(r'/Users/yourname/data/Largest_companies_in_India.csv', index = False)"
   ]
  },
  {
   "cell_type": "code",
   "execution_count": null,
   "id": "a7317363-deb2-49c3-8351-96561f1a535f",
   "metadata": {},
   "outputs": [],
   "source": []
  },
  {
   "cell_type": "code",
   "execution_count": null,
   "id": "b6eb3243-e0a3-4dcd-8bfc-d683e7b48295",
   "metadata": {},
   "outputs": [],
   "source": []
  },
  {
   "cell_type": "code",
   "execution_count": null,
   "id": "083b1b6b-7359-4e5c-903f-26b793054b80",
   "metadata": {},
   "outputs": [],
   "source": []
  },
  {
   "cell_type": "code",
   "execution_count": null,
   "id": "2a5b694f-5b6c-4505-9db8-a021ea761eb4",
   "metadata": {},
   "outputs": [],
   "source": []
  },
  {
   "cell_type": "code",
   "execution_count": null,
   "id": "51aa9200-8f80-441c-898a-8a5a8bc94330",
   "metadata": {},
   "outputs": [],
   "source": []
  },
  {
   "cell_type": "code",
   "execution_count": null,
   "id": "bc6a8061-6534-4eb6-b8ab-63a49d5c187f",
   "metadata": {},
   "outputs": [],
   "source": []
  },
  {
   "cell_type": "code",
   "execution_count": null,
   "id": "c9ed0e33-ea5f-4657-b76c-584b91a6c2ee",
   "metadata": {},
   "outputs": [],
   "source": []
  },
  {
   "cell_type": "code",
   "execution_count": null,
   "id": "1f5a399b-3178-44d5-a367-0dc762d9ab64",
   "metadata": {},
   "outputs": [],
   "source": []
  }
 ],
 "metadata": {
  "kernelspec": {
   "display_name": "Python 3 (ipykernel)",
   "language": "python",
   "name": "python3"
  },
  "language_info": {
   "codemirror_mode": {
    "name": "ipython",
    "version": 3
   },
   "file_extension": ".py",
   "mimetype": "text/x-python",
   "name": "python",
   "nbconvert_exporter": "python",
   "pygments_lexer": "ipython3",
   "version": "3.12.2"
  }
 },
 "nbformat": 4,
 "nbformat_minor": 5
}
